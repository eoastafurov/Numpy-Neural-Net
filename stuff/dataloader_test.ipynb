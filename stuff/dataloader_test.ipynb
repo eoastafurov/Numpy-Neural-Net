{
 "metadata": {
  "language_info": {
   "codemirror_mode": {
    "name": "ipython",
    "version": 3
   },
   "file_extension": ".py",
   "mimetype": "text/x-python",
   "name": "python",
   "nbconvert_exporter": "python",
   "pygments_lexer": "ipython3",
   "version": "3.9.1"
  },
  "orig_nbformat": 2,
  "kernelspec": {
   "name": "miptml",
   "display_name": "Python 3.9.1 64-bit ('MiptML': conda)"
  }
 },
 "nbformat": 4,
 "nbformat_minor": 2,
 "cells": [
  {
   "cell_type": "code",
   "execution_count": 1,
   "metadata": {},
   "outputs": [],
   "source": [
    "%load_ext autoreload\n",
    "%autoreload 2\n",
    "\n",
    "from data import DatasetImageFolder, DataLoader"
   ]
  },
  {
   "cell_type": "code",
   "execution_count": 8,
   "metadata": {},
   "outputs": [
    {
     "output_type": "stream",
     "name": "stdout",
     "text": [
      "41129 10000\n"
     ]
    }
   ],
   "source": [
    "train_dataset = DatasetImageFolder(\n",
    "    root='data/train',\n",
    "    class_names=[str(i) for i in range(10)]\n",
    ")\n",
    "test_dataset = DatasetImageFolder(\n",
    "    root='data/test',\n",
    "    class_names=[str(i) for i in range(10)]\n",
    ")\n",
    "\n",
    "print(len(train_dataset), len(test_dataset))"
   ]
  },
  {
   "cell_type": "code",
   "execution_count": null,
   "metadata": {},
   "outputs": [],
   "source": []
  }
 ]
}