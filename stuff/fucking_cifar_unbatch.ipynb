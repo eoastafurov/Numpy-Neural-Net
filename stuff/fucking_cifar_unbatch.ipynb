{
 "metadata": {
  "language_info": {
   "codemirror_mode": {
    "name": "ipython",
    "version": 3
   },
   "file_extension": ".py",
   "mimetype": "text/x-python",
   "name": "python",
   "nbconvert_exporter": "python",
   "pygments_lexer": "ipython3",
   "version": "3.9.1"
  },
  "orig_nbformat": 2,
  "kernelspec": {
   "name": "miptml",
   "display_name": "Python 3.9.1 64-bit ('MiptML': conda)"
  }
 },
 "nbformat": 4,
 "nbformat_minor": 2,
 "cells": [
  {
   "cell_type": "code",
   "execution_count": 83,
   "metadata": {},
   "outputs": [],
   "source": [
    "import os\n",
    "import pickle\n",
    "import cv2\n",
    "import matplotlib.pyplot as plt\n",
    "import numpy as np\n",
    "\n",
    "\n",
    "cifar_dir = 'cifar-10-batches-py'\n",
    "images_dir = 'data/test'\n",
    "\n",
    "def unpickle(file):\n",
    "    with open(file, 'rb') as fo:\n",
    "        dict_ = pickle.load(fo, encoding='bytes')\n",
    "    return dict_"
   ]
  },
  {
   "cell_type": "code",
   "execution_count": 84,
   "metadata": {},
   "outputs": [
    {
     "output_type": "execute_result",
     "data": {
      "text/plain": [
       "['cifar-10-batches-py/test_batch']"
      ]
     },
     "metadata": {},
     "execution_count": 84
    }
   ],
   "source": [
    "batches_paths = [\n",
    "    os.path.join(cifar_dir, el)\n",
    "    for el in os.listdir(cifar_dir)\n",
    "]\n",
    "\n",
    "batches_paths = [\n",
    "    'cifar-10-batches-py/test_batch',\n",
    "    # 'cifar-10-batches-py/data_batch_1',\n",
    "    # 'cifar-10-batches-py/data_batch_2',\n",
    "    # 'cifar-10-batches-py/data_batch_5',\n",
    "    # 'cifar-10-batches-py/data_batch_4',\n",
    "    # 'cifar-10-batches-py/data_batch_3'\n",
    " ]\n",
    "batches_paths"
   ]
  },
  {
   "cell_type": "code",
   "execution_count": 85,
   "metadata": {},
   "outputs": [],
   "source": [
    "data = []\n",
    "\n",
    "for path in batches_paths:\n",
    "    try:\n",
    "        data.append(unpickle(path))\n",
    "    except:\n",
    "        continue"
   ]
  },
  {
   "cell_type": "code",
   "execution_count": 86,
   "metadata": {},
   "outputs": [
    {
     "output_type": "execute_result",
     "data": {
      "text/plain": [
       "{0, 1, 2, 3, 4, 5, 6, 7, 8, 9}"
      ]
     },
     "metadata": {},
     "execution_count": 86
    }
   ],
   "source": [
    "labels = set()\n",
    "for batch in data:\n",
    "    try:\n",
    "        for label in batch[b'labels']:\n",
    "            labels.add(label)\n",
    "    except KeyError:\n",
    "        for label in batch['labels']:\n",
    "            labels.add(label)\n",
    "labels"
   ]
  },
  {
   "cell_type": "code",
   "execution_count": 87,
   "metadata": {},
   "outputs": [],
   "source": [
    "for label in labels:\n",
    "    os.mkdir(os.path.join(images_dir, str(label)))"
   ]
  },
  {
   "cell_type": "code",
   "execution_count": 88,
   "metadata": {},
   "outputs": [],
   "source": [
    "def save_images_to_dir(data, savedir: str = images_dir):\n",
    "    for batch in data:\n",
    "        for idx, (img, label) in enumerate(zip(batch[b'data'], batch[b'labels'])):\n",
    "            r, g, b = np.split(img, 3)\n",
    "            r = r.reshape((32,32))\n",
    "            g = g.reshape((32,32))\n",
    "            b = b.reshape((32,32))\n",
    "            img = cv2.merge((r,g,b))\n",
    "\n",
    "            cv2.imwrite(os.path.join(savedir, str(label), '{}.jpg'.format(idx)), img)\n",
    "\n",
    "\n",
    "\n",
    "save_images_to_dir(data)"
   ]
  },
  {
   "cell_type": "code",
   "execution_count": 89,
   "metadata": {},
   "outputs": [
    {
     "output_type": "execute_result",
     "data": {
      "text/plain": [
       "<matplotlib.image.AxesImage at 0x7fb065210430>"
      ]
     },
     "metadata": {},
     "execution_count": 89
    },
    {
     "output_type": "display_data",
     "data": {
      "text/plain": "<Figure size 432x288 with 1 Axes>",
      "image/svg+xml": "<?xml version=\"1.0\" encoding=\"utf-8\" standalone=\"no\"?>\n<!DOCTYPE svg PUBLIC \"-//W3C//DTD SVG 1.1//EN\"\n  \"http://www.w3.org/Graphics/SVG/1.1/DTD/svg11.dtd\">\n<!-- Created with matplotlib (https://matplotlib.org/) -->\n<svg height=\"248.919844pt\" version=\"1.1\" viewBox=\"0 0 251.565 248.919844\" width=\"251.565pt\" xmlns=\"http://www.w3.org/2000/svg\" xmlns:xlink=\"http://www.w3.org/1999/xlink\">\n <metadata>\n  <rdf:RDF xmlns:cc=\"http://creativecommons.org/ns#\" xmlns:dc=\"http://purl.org/dc/elements/1.1/\" xmlns:rdf=\"http://www.w3.org/1999/02/22-rdf-syntax-ns#\">\n   <cc:Work>\n    <dc:type rdf:resource=\"http://purl.org/dc/dcmitype/StillImage\"/>\n    <dc:date>2022-03-16T21:03:58.887521</dc:date>\n    <dc:format>image/svg+xml</dc:format>\n    <dc:creator>\n     <cc:Agent>\n      <dc:title>Matplotlib v3.3.4, https://matplotlib.org/</dc:title>\n     </cc:Agent>\n    </dc:creator>\n   </cc:Work>\n  </rdf:RDF>\n </metadata>\n <defs>\n  <style type=\"text/css\">*{stroke-linecap:butt;stroke-linejoin:round;}</style>\n </defs>\n <g id=\"figure_1\">\n  <g id=\"patch_1\">\n   <path d=\"M 0 248.919844 \nL 251.565 248.919844 \nL 251.565 0 \nL 0 0 \nz\n\" style=\"fill:none;\"/>\n  </g>\n  <g id=\"axes_1\">\n   <g id=\"patch_2\">\n    <path d=\"M 26.925 225.041719 \nL 244.365 225.041719 \nL 244.365 7.601719 \nL 26.925 7.601719 \nz\n\" style=\"fill:#ffffff;\"/>\n   </g>\n   <g clip-path=\"url(#p4c0436846e)\">\n    <image height=\"218\" id=\"imagee448b7a004\" transform=\"scale(1 -1)translate(0 -218)\" width=\"218\" x=\"26.925\" xlink:href=\"data:image/png;base64,\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\" y=\"-7.041719\"/>\n   </g>\n   <g id=\"matplotlib.axis_1\">\n    <g id=\"xtick_1\">\n     <g id=\"line2d_1\">\n      <defs>\n       <path d=\"M 0 0 \nL 0 3.5 \n\" id=\"m78a248495c\" style=\"stroke:#000000;stroke-width:0.8;\"/>\n      </defs>\n      <g>\n       <use style=\"stroke:#000000;stroke-width:0.8;\" x=\"30.3225\" xlink:href=\"#m78a248495c\" y=\"225.041719\"/>\n      </g>\n     </g>\n     <g id=\"text_1\">\n      <!-- 0 -->\n      <g transform=\"translate(27.14125 239.640156)scale(0.1 -0.1)\">\n       <defs>\n        <path d=\"M 31.78125 66.40625 \nQ 24.171875 66.40625 20.328125 58.90625 \nQ 16.5 51.421875 16.5 36.375 \nQ 16.5 21.390625 20.328125 13.890625 \nQ 24.171875 6.390625 31.78125 6.390625 \nQ 39.453125 6.390625 43.28125 13.890625 \nQ 47.125 21.390625 47.125 36.375 \nQ 47.125 51.421875 43.28125 58.90625 \nQ 39.453125 66.40625 31.78125 66.40625 \nz\nM 31.78125 74.21875 \nQ 44.046875 74.21875 50.515625 64.515625 \nQ 56.984375 54.828125 56.984375 36.375 \nQ 56.984375 17.96875 50.515625 8.265625 \nQ 44.046875 -1.421875 31.78125 -1.421875 \nQ 19.53125 -1.421875 13.0625 8.265625 \nQ 6.59375 17.96875 6.59375 36.375 \nQ 6.59375 54.828125 13.0625 64.515625 \nQ 19.53125 74.21875 31.78125 74.21875 \nz\n\" id=\"DejaVuSans-48\"/>\n       </defs>\n       <use xlink:href=\"#DejaVuSans-48\"/>\n      </g>\n     </g>\n    </g>\n    <g id=\"xtick_2\">\n     <g id=\"line2d_2\">\n      <g>\n       <use style=\"stroke:#000000;stroke-width:0.8;\" x=\"64.2975\" xlink:href=\"#m78a248495c\" y=\"225.041719\"/>\n      </g>\n     </g>\n     <g id=\"text_2\">\n      <!-- 5 -->\n      <g transform=\"translate(61.11625 239.640156)scale(0.1 -0.1)\">\n       <defs>\n        <path d=\"M 10.796875 72.90625 \nL 49.515625 72.90625 \nL 49.515625 64.59375 \nL 19.828125 64.59375 \nL 19.828125 46.734375 \nQ 21.96875 47.46875 24.109375 47.828125 \nQ 26.265625 48.1875 28.421875 48.1875 \nQ 40.625 48.1875 47.75 41.5 \nQ 54.890625 34.8125 54.890625 23.390625 \nQ 54.890625 11.625 47.5625 5.09375 \nQ 40.234375 -1.421875 26.90625 -1.421875 \nQ 22.3125 -1.421875 17.546875 -0.640625 \nQ 12.796875 0.140625 7.71875 1.703125 \nL 7.71875 11.625 \nQ 12.109375 9.234375 16.796875 8.0625 \nQ 21.484375 6.890625 26.703125 6.890625 \nQ 35.15625 6.890625 40.078125 11.328125 \nQ 45.015625 15.765625 45.015625 23.390625 \nQ 45.015625 31 40.078125 35.4375 \nQ 35.15625 39.890625 26.703125 39.890625 \nQ 22.75 39.890625 18.8125 39.015625 \nQ 14.890625 38.140625 10.796875 36.28125 \nz\n\" id=\"DejaVuSans-53\"/>\n       </defs>\n       <use xlink:href=\"#DejaVuSans-53\"/>\n      </g>\n     </g>\n    </g>\n    <g id=\"xtick_3\">\n     <g id=\"line2d_3\">\n      <g>\n       <use style=\"stroke:#000000;stroke-width:0.8;\" x=\"98.2725\" xlink:href=\"#m78a248495c\" y=\"225.041719\"/>\n      </g>\n     </g>\n     <g id=\"text_3\">\n      <!-- 10 -->\n      <g transform=\"translate(91.91 239.640156)scale(0.1 -0.1)\">\n       <defs>\n        <path d=\"M 12.40625 8.296875 \nL 28.515625 8.296875 \nL 28.515625 63.921875 \nL 10.984375 60.40625 \nL 10.984375 69.390625 \nL 28.421875 72.90625 \nL 38.28125 72.90625 \nL 38.28125 8.296875 \nL 54.390625 8.296875 \nL 54.390625 0 \nL 12.40625 0 \nz\n\" id=\"DejaVuSans-49\"/>\n       </defs>\n       <use xlink:href=\"#DejaVuSans-49\"/>\n       <use x=\"63.623047\" xlink:href=\"#DejaVuSans-48\"/>\n      </g>\n     </g>\n    </g>\n    <g id=\"xtick_4\">\n     <g id=\"line2d_4\">\n      <g>\n       <use style=\"stroke:#000000;stroke-width:0.8;\" x=\"132.2475\" xlink:href=\"#m78a248495c\" y=\"225.041719\"/>\n      </g>\n     </g>\n     <g id=\"text_4\">\n      <!-- 15 -->\n      <g transform=\"translate(125.885 239.640156)scale(0.1 -0.1)\">\n       <use xlink:href=\"#DejaVuSans-49\"/>\n       <use x=\"63.623047\" xlink:href=\"#DejaVuSans-53\"/>\n      </g>\n     </g>\n    </g>\n    <g id=\"xtick_5\">\n     <g id=\"line2d_5\">\n      <g>\n       <use style=\"stroke:#000000;stroke-width:0.8;\" x=\"166.2225\" xlink:href=\"#m78a248495c\" y=\"225.041719\"/>\n      </g>\n     </g>\n     <g id=\"text_5\">\n      <!-- 20 -->\n      <g transform=\"translate(159.86 239.640156)scale(0.1 -0.1)\">\n       <defs>\n        <path d=\"M 19.1875 8.296875 \nL 53.609375 8.296875 \nL 53.609375 0 \nL 7.328125 0 \nL 7.328125 8.296875 \nQ 12.9375 14.109375 22.625 23.890625 \nQ 32.328125 33.6875 34.8125 36.53125 \nQ 39.546875 41.84375 41.421875 45.53125 \nQ 43.3125 49.21875 43.3125 52.78125 \nQ 43.3125 58.59375 39.234375 62.25 \nQ 35.15625 65.921875 28.609375 65.921875 \nQ 23.96875 65.921875 18.8125 64.3125 \nQ 13.671875 62.703125 7.8125 59.421875 \nL 7.8125 69.390625 \nQ 13.765625 71.78125 18.9375 73 \nQ 24.125 74.21875 28.421875 74.21875 \nQ 39.75 74.21875 46.484375 68.546875 \nQ 53.21875 62.890625 53.21875 53.421875 \nQ 53.21875 48.921875 51.53125 44.890625 \nQ 49.859375 40.875 45.40625 35.40625 \nQ 44.1875 33.984375 37.640625 27.21875 \nQ 31.109375 20.453125 19.1875 8.296875 \nz\n\" id=\"DejaVuSans-50\"/>\n       </defs>\n       <use xlink:href=\"#DejaVuSans-50\"/>\n       <use x=\"63.623047\" xlink:href=\"#DejaVuSans-48\"/>\n      </g>\n     </g>\n    </g>\n    <g id=\"xtick_6\">\n     <g id=\"line2d_6\">\n      <g>\n       <use style=\"stroke:#000000;stroke-width:0.8;\" x=\"200.1975\" xlink:href=\"#m78a248495c\" y=\"225.041719\"/>\n      </g>\n     </g>\n     <g id=\"text_6\">\n      <!-- 25 -->\n      <g transform=\"translate(193.835 239.640156)scale(0.1 -0.1)\">\n       <use xlink:href=\"#DejaVuSans-50\"/>\n       <use x=\"63.623047\" xlink:href=\"#DejaVuSans-53\"/>\n      </g>\n     </g>\n    </g>\n    <g id=\"xtick_7\">\n     <g id=\"line2d_7\">\n      <g>\n       <use style=\"stroke:#000000;stroke-width:0.8;\" x=\"234.1725\" xlink:href=\"#m78a248495c\" y=\"225.041719\"/>\n      </g>\n     </g>\n     <g id=\"text_7\">\n      <!-- 30 -->\n      <g transform=\"translate(227.81 239.640156)scale(0.1 -0.1)\">\n       <defs>\n        <path d=\"M 40.578125 39.3125 \nQ 47.65625 37.796875 51.625 33 \nQ 55.609375 28.21875 55.609375 21.1875 \nQ 55.609375 10.40625 48.1875 4.484375 \nQ 40.765625 -1.421875 27.09375 -1.421875 \nQ 22.515625 -1.421875 17.65625 -0.515625 \nQ 12.796875 0.390625 7.625 2.203125 \nL 7.625 11.71875 \nQ 11.71875 9.328125 16.59375 8.109375 \nQ 21.484375 6.890625 26.8125 6.890625 \nQ 36.078125 6.890625 40.9375 10.546875 \nQ 45.796875 14.203125 45.796875 21.1875 \nQ 45.796875 27.640625 41.28125 31.265625 \nQ 36.765625 34.90625 28.71875 34.90625 \nL 20.21875 34.90625 \nL 20.21875 43.015625 \nL 29.109375 43.015625 \nQ 36.375 43.015625 40.234375 45.921875 \nQ 44.09375 48.828125 44.09375 54.296875 \nQ 44.09375 59.90625 40.109375 62.90625 \nQ 36.140625 65.921875 28.71875 65.921875 \nQ 24.65625 65.921875 20.015625 65.03125 \nQ 15.375 64.15625 9.8125 62.3125 \nL 9.8125 71.09375 \nQ 15.4375 72.65625 20.34375 73.4375 \nQ 25.25 74.21875 29.59375 74.21875 \nQ 40.828125 74.21875 47.359375 69.109375 \nQ 53.90625 64.015625 53.90625 55.328125 \nQ 53.90625 49.265625 50.4375 45.09375 \nQ 46.96875 40.921875 40.578125 39.3125 \nz\n\" id=\"DejaVuSans-51\"/>\n       </defs>\n       <use xlink:href=\"#DejaVuSans-51\"/>\n       <use x=\"63.623047\" xlink:href=\"#DejaVuSans-48\"/>\n      </g>\n     </g>\n    </g>\n   </g>\n   <g id=\"matplotlib.axis_2\">\n    <g id=\"ytick_1\">\n     <g id=\"line2d_8\">\n      <defs>\n       <path d=\"M 0 0 \nL -3.5 0 \n\" id=\"m5bb2157123\" style=\"stroke:#000000;stroke-width:0.8;\"/>\n      </defs>\n      <g>\n       <use style=\"stroke:#000000;stroke-width:0.8;\" x=\"26.925\" xlink:href=\"#m5bb2157123\" y=\"10.999219\"/>\n      </g>\n     </g>\n     <g id=\"text_8\">\n      <!-- 0 -->\n      <g transform=\"translate(13.5625 14.798437)scale(0.1 -0.1)\">\n       <use xlink:href=\"#DejaVuSans-48\"/>\n      </g>\n     </g>\n    </g>\n    <g id=\"ytick_2\">\n     <g id=\"line2d_9\">\n      <g>\n       <use style=\"stroke:#000000;stroke-width:0.8;\" x=\"26.925\" xlink:href=\"#m5bb2157123\" y=\"44.974219\"/>\n      </g>\n     </g>\n     <g id=\"text_9\">\n      <!-- 5 -->\n      <g transform=\"translate(13.5625 48.773437)scale(0.1 -0.1)\">\n       <use xlink:href=\"#DejaVuSans-53\"/>\n      </g>\n     </g>\n    </g>\n    <g id=\"ytick_3\">\n     <g id=\"line2d_10\">\n      <g>\n       <use style=\"stroke:#000000;stroke-width:0.8;\" x=\"26.925\" xlink:href=\"#m5bb2157123\" y=\"78.949219\"/>\n      </g>\n     </g>\n     <g id=\"text_10\">\n      <!-- 10 -->\n      <g transform=\"translate(7.2 82.748437)scale(0.1 -0.1)\">\n       <use xlink:href=\"#DejaVuSans-49\"/>\n       <use x=\"63.623047\" xlink:href=\"#DejaVuSans-48\"/>\n      </g>\n     </g>\n    </g>\n    <g id=\"ytick_4\">\n     <g id=\"line2d_11\">\n      <g>\n       <use style=\"stroke:#000000;stroke-width:0.8;\" x=\"26.925\" xlink:href=\"#m5bb2157123\" y=\"112.924219\"/>\n      </g>\n     </g>\n     <g id=\"text_11\">\n      <!-- 15 -->\n      <g transform=\"translate(7.2 116.723437)scale(0.1 -0.1)\">\n       <use xlink:href=\"#DejaVuSans-49\"/>\n       <use x=\"63.623047\" xlink:href=\"#DejaVuSans-53\"/>\n      </g>\n     </g>\n    </g>\n    <g id=\"ytick_5\">\n     <g id=\"line2d_12\">\n      <g>\n       <use style=\"stroke:#000000;stroke-width:0.8;\" x=\"26.925\" xlink:href=\"#m5bb2157123\" y=\"146.899219\"/>\n      </g>\n     </g>\n     <g id=\"text_12\">\n      <!-- 20 -->\n      <g transform=\"translate(7.2 150.698437)scale(0.1 -0.1)\">\n       <use xlink:href=\"#DejaVuSans-50\"/>\n       <use x=\"63.623047\" xlink:href=\"#DejaVuSans-48\"/>\n      </g>\n     </g>\n    </g>\n    <g id=\"ytick_6\">\n     <g id=\"line2d_13\">\n      <g>\n       <use style=\"stroke:#000000;stroke-width:0.8;\" x=\"26.925\" xlink:href=\"#m5bb2157123\" y=\"180.874219\"/>\n      </g>\n     </g>\n     <g id=\"text_13\">\n      <!-- 25 -->\n      <g transform=\"translate(7.2 184.673437)scale(0.1 -0.1)\">\n       <use xlink:href=\"#DejaVuSans-50\"/>\n       <use x=\"63.623047\" xlink:href=\"#DejaVuSans-53\"/>\n      </g>\n     </g>\n    </g>\n    <g id=\"ytick_7\">\n     <g id=\"line2d_14\">\n      <g>\n       <use style=\"stroke:#000000;stroke-width:0.8;\" x=\"26.925\" xlink:href=\"#m5bb2157123\" y=\"214.849219\"/>\n      </g>\n     </g>\n     <g id=\"text_14\">\n      <!-- 30 -->\n      <g transform=\"translate(7.2 218.648437)scale(0.1 -0.1)\">\n       <use xlink:href=\"#DejaVuSans-51\"/>\n       <use x=\"63.623047\" xlink:href=\"#DejaVuSans-48\"/>\n      </g>\n     </g>\n    </g>\n   </g>\n   <g id=\"patch_3\">\n    <path d=\"M 26.925 225.041719 \nL 26.925 7.601719 \n\" style=\"fill:none;stroke:#000000;stroke-linecap:square;stroke-linejoin:miter;stroke-width:0.8;\"/>\n   </g>\n   <g id=\"patch_4\">\n    <path d=\"M 244.365 225.041719 \nL 244.365 7.601719 \n\" style=\"fill:none;stroke:#000000;stroke-linecap:square;stroke-linejoin:miter;stroke-width:0.8;\"/>\n   </g>\n   <g id=\"patch_5\">\n    <path d=\"M 26.925 225.041719 \nL 244.365 225.041719 \n\" style=\"fill:none;stroke:#000000;stroke-linecap:square;stroke-linejoin:miter;stroke-width:0.8;\"/>\n   </g>\n   <g id=\"patch_6\">\n    <path d=\"M 26.925 7.601719 \nL 244.365 7.601719 \n\" style=\"fill:none;stroke:#000000;stroke-linecap:square;stroke-linejoin:miter;stroke-width:0.8;\"/>\n   </g>\n  </g>\n </g>\n <defs>\n  <clipPath id=\"p4c0436846e\">\n   <rect height=\"217.44\" width=\"217.44\" x=\"26.925\" y=\"7.601719\"/>\n  </clipPath>\n </defs>\n</svg>\n",
      "image/png": "[encoded data removed]"
     },
     "metadata": {
      "needs_background": "light"
     }
    }
   ],
   "source": [
    "img0 = data[0][b'data'][4]\n",
    "r, g, b = np.split(img0, 3)\n",
    "r = r.reshape((32,32))\n",
    "g = g.reshape((32,32))\n",
    "b = b.reshape((32,32))\n",
    "img0 = cv2.merge((r,g,b))\n",
    "# img0 = img0.reshape((32, 32, 3))\n",
    "plt.imshow(img0)"
   ]
  },
  {
   "cell_type": "code",
   "execution_count": 26,
   "metadata": {},
   "outputs": [
    {
     "output_type": "execute_result",
     "data": {
      "text/plain": [
       "dict_keys([b'batch_label', b'labels', b'data', b'filenames'])"
      ]
     },
     "metadata": {},
     "execution_count": 26
    }
   ],
   "source": [
    "data.keys()"
   ]
  },
  {
   "cell_type": "code",
   "execution_count": null,
   "metadata": {},
   "outputs": [],
   "source": []
  }
 ]
}